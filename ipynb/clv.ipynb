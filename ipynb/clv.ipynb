{
  "nbformat": 4,
  "nbformat_minor": 0,
  "metadata": {
    "environment": {
      "name": "common-cpu.m59",
      "type": "gcloud",
      "uri": "gcr.io/deeplearning-platform-release/base-cpu:m59"
    },
    "kernelspec": {
      "display_name": "Python 3",
      "language": "python",
      "name": "python3"
    },
    "language_info": {
      "codemirror_mode": {
        "name": "ipython",
        "version": 3
      },
      "file_extension": ".py",
      "mimetype": "text/x-python",
      "name": "python",
      "nbconvert_exporter": "python",
      "pygments_lexer": "ipython3",
      "version": "3.7.8"
    },
    "colab": {
      "name": "clv.ipynb",
      "provenance": [],
      "toc_visible": true
    }
  },
  "cells": [
    {
      "cell_type": "markdown",
      "metadata": {
        "id": "zXcc24IjmY6L"
      },
      "source": [
        "# Calculating Customer Lifetime Value (CLV)"
      ]
    },
    {
      "cell_type": "markdown",
      "metadata": {
        "id": "uOaahb71mY6M"
      },
      "source": [
        "## 1. Introduction"
      ]
    },
    {
      "cell_type": "markdown",
      "metadata": {
        "id": "_tZZZp1TmY6M"
      },
      "source": [
        "What we're going to do here is to calculate the \"Customer Lifetime Value\".\n",
        "\n",
        "There are two ways this can be interpreted:\n",
        "1. The value of a customer **up until today**  \n",
        "   This is covered by the Aggregated and the Segmented approach\n",
        "2. The value of a customer **up until some time in the future**  \n",
        "   Also called **predictive Lifetime Value (pLTV)**\n",
        "   This is covered by the Predictive approach"
      ]
    },
    {
      "cell_type": "markdown",
      "metadata": {
        "id": "GvgrSvwWmY6M"
      },
      "source": [
        "### 1.1. Sources"
      ]
    },
    {
      "cell_type": "markdown",
      "metadata": {
        "id": "uKquhLXpmY6M"
      },
      "source": [
        "- [Definitive guide to pCLV](https://www.analyticsvidhya.com/blog/2020/10/a-definitive-guide-for-predicting-customer-lifetime-value-clv/)  \n",
        "- [BTYD](https://towardsdatascience.com/predicting-customer-lifetime-value-with-buy-til-you-die-probabilistic-models-in-python-f5cac78758d9)  \n",
        "- [Online Retail Dataset](https://archive.ics.uci.edu/ml/machine-learning-databases/00352/)"
      ]
    },
    {
      "cell_type": "markdown",
      "metadata": {
        "id": "rTaVglCEmY6N"
      },
      "source": [
        "## 2. Import libraries"
      ]
    },
    {
      "cell_type": "code",
      "metadata": {
        "colab": {
          "base_uri": "https://localhost:8080/"
        },
        "id": "XFHVIUtjmY6N",
        "outputId": "c7706988-70c9-43ca-e0e0-e87b53a2671b"
      },
      "source": [
        "pip install lifetimes"
      ],
      "execution_count": 29,
      "outputs": [
        {
          "output_type": "stream",
          "text": [
            "Requirement already satisfied: lifetimes in /usr/local/lib/python3.7/dist-packages (0.11.3)\n",
            "Requirement already satisfied: dill>=0.2.6 in /usr/local/lib/python3.7/dist-packages (from lifetimes) (0.3.3)\n",
            "Requirement already satisfied: pandas>=0.24.0 in /usr/local/lib/python3.7/dist-packages (from lifetimes) (1.1.5)\n",
            "Requirement already satisfied: numpy>=1.10.0 in /usr/local/lib/python3.7/dist-packages (from lifetimes) (1.19.5)\n",
            "Requirement already satisfied: autograd>=1.2.0 in /usr/local/lib/python3.7/dist-packages (from lifetimes) (1.3)\n",
            "Requirement already satisfied: scipy>=1.0.0 in /usr/local/lib/python3.7/dist-packages (from lifetimes) (1.4.1)\n",
            "Requirement already satisfied: python-dateutil>=2.7.3 in /usr/local/lib/python3.7/dist-packages (from pandas>=0.24.0->lifetimes) (2.8.1)\n",
            "Requirement already satisfied: pytz>=2017.2 in /usr/local/lib/python3.7/dist-packages (from pandas>=0.24.0->lifetimes) (2018.9)\n",
            "Requirement already satisfied: future>=0.15.2 in /usr/local/lib/python3.7/dist-packages (from autograd>=1.2.0->lifetimes) (0.16.0)\n",
            "Requirement already satisfied: six>=1.5 in /usr/local/lib/python3.7/dist-packages (from python-dateutil>=2.7.3->pandas>=0.24.0->lifetimes) (1.15.0)\n"
          ],
          "name": "stdout"
        }
      ]
    },
    {
      "cell_type": "code",
      "metadata": {
        "id": "x1693uxgmY6O"
      },
      "source": [
        "import pandas as pd\n",
        "import numpy as np\n",
        "import matplotlib.pyplot as plt\n",
        "import lifetimes\n",
        "from lifetimes.plotting import plot_probability_alive_matrix, plot_frequency_recency_matrix"
      ],
      "execution_count": 30,
      "outputs": []
    },
    {
      "cell_type": "markdown",
      "metadata": {
        "id": "MdiBYzlKmY6O"
      },
      "source": [
        "## 3. Read data from CSV"
      ]
    },
    {
      "cell_type": "code",
      "metadata": {
        "colab": {
          "base_uri": "https://localhost:8080/",
          "height": 204
        },
        "id": "PF6r5FLNmY6O",
        "outputId": "aa90fe9c-0488-45a1-df47-c23128f88031"
      },
      "source": [
        "df = pd.read_csv('online_retail.csv', parse_dates=['InvoiceDate'])\n",
        "df.head()"
      ],
      "execution_count": 31,
      "outputs": [
        {
          "output_type": "execute_result",
          "data": {
            "text/html": [
              "<div>\n",
              "<style scoped>\n",
              "    .dataframe tbody tr th:only-of-type {\n",
              "        vertical-align: middle;\n",
              "    }\n",
              "\n",
              "    .dataframe tbody tr th {\n",
              "        vertical-align: top;\n",
              "    }\n",
              "\n",
              "    .dataframe thead th {\n",
              "        text-align: right;\n",
              "    }\n",
              "</style>\n",
              "<table border=\"1\" class=\"dataframe\">\n",
              "  <thead>\n",
              "    <tr style=\"text-align: right;\">\n",
              "      <th></th>\n",
              "      <th>InvoiceNo</th>\n",
              "      <th>StockCode</th>\n",
              "      <th>Description</th>\n",
              "      <th>Quantity</th>\n",
              "      <th>InvoiceDate</th>\n",
              "      <th>UnitPrice</th>\n",
              "      <th>CustomerID</th>\n",
              "      <th>Country</th>\n",
              "    </tr>\n",
              "  </thead>\n",
              "  <tbody>\n",
              "    <tr>\n",
              "      <th>0</th>\n",
              "      <td>536365</td>\n",
              "      <td>85123A</td>\n",
              "      <td>WHITE HANGING HEART T-LIGHT HOLDER</td>\n",
              "      <td>6</td>\n",
              "      <td>2010-12-01 08:26:00</td>\n",
              "      <td>2.55</td>\n",
              "      <td>17850.0</td>\n",
              "      <td>United Kingdom</td>\n",
              "    </tr>\n",
              "    <tr>\n",
              "      <th>1</th>\n",
              "      <td>536365</td>\n",
              "      <td>71053</td>\n",
              "      <td>WHITE METAL LANTERN</td>\n",
              "      <td>6</td>\n",
              "      <td>2010-12-01 08:26:00</td>\n",
              "      <td>3.39</td>\n",
              "      <td>17850.0</td>\n",
              "      <td>United Kingdom</td>\n",
              "    </tr>\n",
              "    <tr>\n",
              "      <th>2</th>\n",
              "      <td>536365</td>\n",
              "      <td>84406B</td>\n",
              "      <td>CREAM CUPID HEARTS COAT HANGER</td>\n",
              "      <td>8</td>\n",
              "      <td>2010-12-01 08:26:00</td>\n",
              "      <td>2.75</td>\n",
              "      <td>17850.0</td>\n",
              "      <td>United Kingdom</td>\n",
              "    </tr>\n",
              "    <tr>\n",
              "      <th>3</th>\n",
              "      <td>536365</td>\n",
              "      <td>84029G</td>\n",
              "      <td>KNITTED UNION FLAG HOT WATER BOTTLE</td>\n",
              "      <td>6</td>\n",
              "      <td>2010-12-01 08:26:00</td>\n",
              "      <td>3.39</td>\n",
              "      <td>17850.0</td>\n",
              "      <td>United Kingdom</td>\n",
              "    </tr>\n",
              "    <tr>\n",
              "      <th>4</th>\n",
              "      <td>536365</td>\n",
              "      <td>84029E</td>\n",
              "      <td>RED WOOLLY HOTTIE WHITE HEART.</td>\n",
              "      <td>6</td>\n",
              "      <td>2010-12-01 08:26:00</td>\n",
              "      <td>3.39</td>\n",
              "      <td>17850.0</td>\n",
              "      <td>United Kingdom</td>\n",
              "    </tr>\n",
              "  </tbody>\n",
              "</table>\n",
              "</div>"
            ],
            "text/plain": [
              "  InvoiceNo StockCode  ... CustomerID         Country\n",
              "0    536365    85123A  ...    17850.0  United Kingdom\n",
              "1    536365     71053  ...    17850.0  United Kingdom\n",
              "2    536365    84406B  ...    17850.0  United Kingdom\n",
              "3    536365    84029G  ...    17850.0  United Kingdom\n",
              "4    536365    84029E  ...    17850.0  United Kingdom\n",
              "\n",
              "[5 rows x 8 columns]"
            ]
          },
          "metadata": {
            "tags": []
          },
          "execution_count": 31
        }
      ]
    },
    {
      "cell_type": "markdown",
      "metadata": {
        "id": "3asdD7simY6P"
      },
      "source": [
        "## 4. Preparing the data"
      ]
    },
    {
      "cell_type": "code",
      "metadata": {
        "id": "bQRdg68RmY6P"
      },
      "source": [
        "# Only keep the columns we actually need\n",
        "df = df[['InvoiceNo', 'Quantity', 'InvoiceDate', 'UnitPrice', 'CustomerID']]"
      ],
      "execution_count": 32,
      "outputs": []
    },
    {
      "cell_type": "code",
      "metadata": {
        "id": "bAI3G9aTmY6Q"
      },
      "source": [
        "# Removing null CustomerIDs\n",
        "df = df[pd.notnull(df['CustomerID'])]"
      ],
      "execution_count": 33,
      "outputs": []
    },
    {
      "cell_type": "code",
      "metadata": {
        "id": "1NXfBlDkmY6Q"
      },
      "source": [
        "# Calculating total sales\n",
        "df['TotalSales'] = df['Quantity'].multiply(df['UnitPrice'])"
      ],
      "execution_count": 34,
      "outputs": []
    },
    {
      "cell_type": "code",
      "metadata": {
        "id": "8Ln3-17OmY6Q"
      },
      "source": [
        "# Remove negative transactions (returns)\n",
        "df = df[df['TotalSales'] > 0]"
      ],
      "execution_count": 35,
      "outputs": []
    },
    {
      "cell_type": "code",
      "metadata": {
        "colab": {
          "base_uri": "https://localhost:8080/",
          "height": 204
        },
        "id": "KRCWm4jWmY6Q",
        "outputId": "af25b8b3-9017-4dd3-c81e-154f0b72f46e"
      },
      "source": [
        "# Show the result\n",
        "df.head()"
      ],
      "execution_count": 36,
      "outputs": [
        {
          "output_type": "execute_result",
          "data": {
            "text/html": [
              "<div>\n",
              "<style scoped>\n",
              "    .dataframe tbody tr th:only-of-type {\n",
              "        vertical-align: middle;\n",
              "    }\n",
              "\n",
              "    .dataframe tbody tr th {\n",
              "        vertical-align: top;\n",
              "    }\n",
              "\n",
              "    .dataframe thead th {\n",
              "        text-align: right;\n",
              "    }\n",
              "</style>\n",
              "<table border=\"1\" class=\"dataframe\">\n",
              "  <thead>\n",
              "    <tr style=\"text-align: right;\">\n",
              "      <th></th>\n",
              "      <th>InvoiceNo</th>\n",
              "      <th>Quantity</th>\n",
              "      <th>InvoiceDate</th>\n",
              "      <th>UnitPrice</th>\n",
              "      <th>CustomerID</th>\n",
              "      <th>TotalSales</th>\n",
              "    </tr>\n",
              "  </thead>\n",
              "  <tbody>\n",
              "    <tr>\n",
              "      <th>0</th>\n",
              "      <td>536365</td>\n",
              "      <td>6</td>\n",
              "      <td>2010-12-01 08:26:00</td>\n",
              "      <td>2.55</td>\n",
              "      <td>17850.0</td>\n",
              "      <td>15.30</td>\n",
              "    </tr>\n",
              "    <tr>\n",
              "      <th>1</th>\n",
              "      <td>536365</td>\n",
              "      <td>6</td>\n",
              "      <td>2010-12-01 08:26:00</td>\n",
              "      <td>3.39</td>\n",
              "      <td>17850.0</td>\n",
              "      <td>20.34</td>\n",
              "    </tr>\n",
              "    <tr>\n",
              "      <th>2</th>\n",
              "      <td>536365</td>\n",
              "      <td>8</td>\n",
              "      <td>2010-12-01 08:26:00</td>\n",
              "      <td>2.75</td>\n",
              "      <td>17850.0</td>\n",
              "      <td>22.00</td>\n",
              "    </tr>\n",
              "    <tr>\n",
              "      <th>3</th>\n",
              "      <td>536365</td>\n",
              "      <td>6</td>\n",
              "      <td>2010-12-01 08:26:00</td>\n",
              "      <td>3.39</td>\n",
              "      <td>17850.0</td>\n",
              "      <td>20.34</td>\n",
              "    </tr>\n",
              "    <tr>\n",
              "      <th>4</th>\n",
              "      <td>536365</td>\n",
              "      <td>6</td>\n",
              "      <td>2010-12-01 08:26:00</td>\n",
              "      <td>3.39</td>\n",
              "      <td>17850.0</td>\n",
              "      <td>20.34</td>\n",
              "    </tr>\n",
              "  </tbody>\n",
              "</table>\n",
              "</div>"
            ],
            "text/plain": [
              "  InvoiceNo  Quantity         InvoiceDate  UnitPrice  CustomerID  TotalSales\n",
              "0    536365         6 2010-12-01 08:26:00       2.55     17850.0       15.30\n",
              "1    536365         6 2010-12-01 08:26:00       3.39     17850.0       20.34\n",
              "2    536365         8 2010-12-01 08:26:00       2.75     17850.0       22.00\n",
              "3    536365         6 2010-12-01 08:26:00       3.39     17850.0       20.34\n",
              "4    536365         6 2010-12-01 08:26:00       3.39     17850.0       20.34"
            ]
          },
          "metadata": {
            "tags": []
          },
          "execution_count": 36
        }
      ]
    },
    {
      "cell_type": "markdown",
      "metadata": {
        "id": "EwbvYDzvmY6Q"
      },
      "source": [
        "## 4. Aggregated CLV"
      ]
    },
    {
      "cell_type": "markdown",
      "metadata": {
        "id": "gpPRGd0jmY6R"
      },
      "source": [
        "This uses the collective data from all customers to come up with a single **average Customer Lifetime Value shared by all customers** .  \n",
        "Assigning every customer the same value sounds **not very accurate** as it ignores different types of customers but it's a good exercise to understand the concept.  \n",
        "Both the Aggregated CLV and the Segmented CLV use a **deterministic approach** to get the actual Customer Lifetime Value up until the end of the given timeframe."
      ]
    },
    {
      "cell_type": "markdown",
      "metadata": {
        "id": "3DG6CNACmY6R"
      },
      "source": [
        "This method gives us the CLV up until today (but not at a future time).  \n",
        "It is calculated using this simple formula:\n",
        "\n",
        "`CLV = ((Average Sales * Purchase Frequency) / Churn Rate)`\n",
        "\n",
        "Where:  \n",
        "- Average Sales = Total Sales / Total Number of Orders\n",
        "- Purchase Frequency = Total Number of Orders / Total unique Customers\n",
        "- Retention Rate = Total Number of Customers with > 1 Orders / Total unique Customers\n",
        "- Curn Rate = 1 - Retention Rate"
      ]
    },
    {
      "cell_type": "markdown",
      "metadata": {
        "id": "XzQAvSIxmY6R"
      },
      "source": [
        "### 4.1. Aggregate customer data"
      ]
    },
    {
      "cell_type": "code",
      "metadata": {
        "colab": {
          "base_uri": "https://localhost:8080/",
          "height": 204
        },
        "id": "-Fgq9r1_mY6R",
        "outputId": "20c9f7f6-61a2-46cc-e183-4775e5246ad5"
      },
      "source": [
        "# Count purchases and add up sales\n",
        "clv_agg = df.groupby('CustomerID').agg({'InvoiceNo': lambda x: len(x),\n",
        "                                        'TotalSales': lambda x: sum(x)}).reset_index()\n",
        "\n",
        "# Rename columns\n",
        "clv_agg.columns = ['CustomerID', 'Frequency', 'TotalSales']\n",
        "\n",
        "# Show results\n",
        "clv_agg.head()"
      ],
      "execution_count": 37,
      "outputs": [
        {
          "output_type": "execute_result",
          "data": {
            "text/html": [
              "<div>\n",
              "<style scoped>\n",
              "    .dataframe tbody tr th:only-of-type {\n",
              "        vertical-align: middle;\n",
              "    }\n",
              "\n",
              "    .dataframe tbody tr th {\n",
              "        vertical-align: top;\n",
              "    }\n",
              "\n",
              "    .dataframe thead th {\n",
              "        text-align: right;\n",
              "    }\n",
              "</style>\n",
              "<table border=\"1\" class=\"dataframe\">\n",
              "  <thead>\n",
              "    <tr style=\"text-align: right;\">\n",
              "      <th></th>\n",
              "      <th>CustomerID</th>\n",
              "      <th>Frequency</th>\n",
              "      <th>TotalSales</th>\n",
              "    </tr>\n",
              "  </thead>\n",
              "  <tbody>\n",
              "    <tr>\n",
              "      <th>0</th>\n",
              "      <td>12346.0</td>\n",
              "      <td>1</td>\n",
              "      <td>77183.60</td>\n",
              "    </tr>\n",
              "    <tr>\n",
              "      <th>1</th>\n",
              "      <td>12347.0</td>\n",
              "      <td>182</td>\n",
              "      <td>4310.00</td>\n",
              "    </tr>\n",
              "    <tr>\n",
              "      <th>2</th>\n",
              "      <td>12348.0</td>\n",
              "      <td>31</td>\n",
              "      <td>1797.24</td>\n",
              "    </tr>\n",
              "    <tr>\n",
              "      <th>3</th>\n",
              "      <td>12349.0</td>\n",
              "      <td>73</td>\n",
              "      <td>1757.55</td>\n",
              "    </tr>\n",
              "    <tr>\n",
              "      <th>4</th>\n",
              "      <td>12350.0</td>\n",
              "      <td>17</td>\n",
              "      <td>334.40</td>\n",
              "    </tr>\n",
              "  </tbody>\n",
              "</table>\n",
              "</div>"
            ],
            "text/plain": [
              "   CustomerID  Frequency  TotalSales\n",
              "0     12346.0          1    77183.60\n",
              "1     12347.0        182     4310.00\n",
              "2     12348.0         31     1797.24\n",
              "3     12349.0         73     1757.55\n",
              "4     12350.0         17      334.40"
            ]
          },
          "metadata": {
            "tags": []
          },
          "execution_count": 37
        }
      ]
    },
    {
      "cell_type": "markdown",
      "metadata": {
        "id": "CShsjJflmY6S"
      },
      "source": [
        "### 4.2. Calculate intermediate metrics"
      ]
    },
    {
      "cell_type": "code",
      "metadata": {
        "id": "I-vGnc05mY6S"
      },
      "source": [
        "# Calculate Average Sales\n",
        "avg_sales = round(np.mean(clv_agg['TotalSales']),2)\n",
        "\n",
        "# Calculate Purchase Frequency\n",
        "purchase_freq = round(np.mean(clv_agg['Frequency']), 2)\n",
        "\n",
        "# Calculate Churn Rate\n",
        "retention_rate = clv_agg[clv_agg['Frequency'] > 1].shape[0] / clv_agg.shape[0]\n",
        "churn = round(1 - retention_rate, 2)"
      ],
      "execution_count": 38,
      "outputs": []
    },
    {
      "cell_type": "markdown",
      "metadata": {
        "id": "UIXCMjQJmY6S"
      },
      "source": [
        "### 4.3. Calculate CLV"
      ]
    },
    {
      "cell_type": "code",
      "metadata": {
        "id": "3mMIHmn-mY6S"
      },
      "source": [
        "# Applying the CLV formula\n",
        "clv = round((avg_sales * purchase_freq / churn), 2)"
      ],
      "execution_count": 39,
      "outputs": []
    },
    {
      "cell_type": "code",
      "metadata": {
        "colab": {
          "base_uri": "https://localhost:8080/"
        },
        "id": "2na3oCOUmY6S",
        "outputId": "5ef602e7-50b2-4d0c-f26d-9b2f44086729"
      },
      "source": [
        "# Show the result\n",
        "print(clv)"
      ],
      "execution_count": 40,
      "outputs": [
        {
          "output_type": "stream",
          "text": [
            "9420882.22\n"
          ],
          "name": "stdout"
        }
      ]
    },
    {
      "cell_type": "markdown",
      "metadata": {
        "id": "pC13E9nCmY6T"
      },
      "source": [
        "So the average CLV for this dataset is 9,420,882.22.  \n",
        "Note that this is gross revenue, not actual profit."
      ]
    },
    {
      "cell_type": "markdown",
      "metadata": {
        "id": "UPdH3O7CmY6T"
      },
      "source": [
        "## 5. Segmented CLV"
      ]
    },
    {
      "cell_type": "markdown",
      "metadata": {
        "id": "fneW3EbUmY6T"
      },
      "source": [
        "Calculating CLV on customer segments already makes more sense than an overall CLV.  \n",
        "Basically how this works is you build your segments (i.e. by using Recency, Frequency, Monetary (RFM) values) and then do the exact same as with the Aggregated CLV but instead of grouping by 'CustomerID' you would group by RFM-Segment or Segments-Bucket."
      ]
    },
    {
      "cell_type": "markdown",
      "metadata": {
        "id": "bgX96qr3mY6T"
      },
      "source": [
        "## 6. Predictive CLV"
      ]
    },
    {
      "cell_type": "markdown",
      "metadata": {
        "id": "nxbJ3gm3mY6T"
      },
      "source": [
        "This uses a **probabilistic** Machine Learning model to use historic data to **predict a Customer Lifetime Value** for some time in the future.\n",
        "\n",
        "To do that we're going to make use of the **Buy Till You Die (BTYD)** class of statistical models.  \n",
        "BTYD is an umbrella term for statistical models to predict the customer lifetime value based on non-contractual continuous transactions.  \n",
        "\n",
        "In particular we're going to use the [Beta Geometric/Negative Binomial Distribution model (BG/NBD)](http://www.brucehardie.com/papers/bgnbd_2004-04-20.pdf) to predict future transactions and churn in combination with a **Gamma-Gamma Model** to predict future order values."
      ]
    },
    {
      "cell_type": "code",
      "metadata": {
        "colab": {
          "base_uri": "https://localhost:8080/",
          "height": 204
        },
        "id": "OvmWKdKGmY6T",
        "outputId": "43ace4f8-b882-4c51-a80e-ca45255c26fe"
      },
      "source": [
        "# Create the summary data using summary_data_from_transaction_data function\n",
        "summary = lifetimes.utils.summary_data_from_transaction_data(df, 'CustomerID', 'InvoiceDate', 'TotalSales', freq='D')\n",
        "summary = summary.reset_index()\n",
        "summary.head()"
      ],
      "execution_count": 41,
      "outputs": [
        {
          "output_type": "execute_result",
          "data": {
            "text/html": [
              "<div>\n",
              "<style scoped>\n",
              "    .dataframe tbody tr th:only-of-type {\n",
              "        vertical-align: middle;\n",
              "    }\n",
              "\n",
              "    .dataframe tbody tr th {\n",
              "        vertical-align: top;\n",
              "    }\n",
              "\n",
              "    .dataframe thead th {\n",
              "        text-align: right;\n",
              "    }\n",
              "</style>\n",
              "<table border=\"1\" class=\"dataframe\">\n",
              "  <thead>\n",
              "    <tr style=\"text-align: right;\">\n",
              "      <th></th>\n",
              "      <th>CustomerID</th>\n",
              "      <th>frequency</th>\n",
              "      <th>recency</th>\n",
              "      <th>T</th>\n",
              "      <th>monetary_value</th>\n",
              "    </tr>\n",
              "  </thead>\n",
              "  <tbody>\n",
              "    <tr>\n",
              "      <th>0</th>\n",
              "      <td>12346.0</td>\n",
              "      <td>0.0</td>\n",
              "      <td>0.0</td>\n",
              "      <td>325.0</td>\n",
              "      <td>0.000000</td>\n",
              "    </tr>\n",
              "    <tr>\n",
              "      <th>1</th>\n",
              "      <td>12347.0</td>\n",
              "      <td>6.0</td>\n",
              "      <td>365.0</td>\n",
              "      <td>367.0</td>\n",
              "      <td>599.701667</td>\n",
              "    </tr>\n",
              "    <tr>\n",
              "      <th>2</th>\n",
              "      <td>12348.0</td>\n",
              "      <td>3.0</td>\n",
              "      <td>283.0</td>\n",
              "      <td>358.0</td>\n",
              "      <td>301.480000</td>\n",
              "    </tr>\n",
              "    <tr>\n",
              "      <th>3</th>\n",
              "      <td>12349.0</td>\n",
              "      <td>0.0</td>\n",
              "      <td>0.0</td>\n",
              "      <td>18.0</td>\n",
              "      <td>0.000000</td>\n",
              "    </tr>\n",
              "    <tr>\n",
              "      <th>4</th>\n",
              "      <td>12350.0</td>\n",
              "      <td>0.0</td>\n",
              "      <td>0.0</td>\n",
              "      <td>310.0</td>\n",
              "      <td>0.000000</td>\n",
              "    </tr>\n",
              "  </tbody>\n",
              "</table>\n",
              "</div>"
            ],
            "text/plain": [
              "   CustomerID  frequency  recency      T  monetary_value\n",
              "0     12346.0        0.0      0.0  325.0        0.000000\n",
              "1     12347.0        6.0    365.0  367.0      599.701667\n",
              "2     12348.0        3.0    283.0  358.0      301.480000\n",
              "3     12349.0        0.0      0.0   18.0        0.000000\n",
              "4     12350.0        0.0      0.0  310.0        0.000000"
            ]
          },
          "metadata": {
            "tags": []
          },
          "execution_count": 41
        }
      ]
    },
    {
      "cell_type": "markdown",
      "metadata": {
        "id": "azzmlTBZmY6U"
      },
      "source": [
        "The lifetimes library provides us with the function [summary_data_from_transaction_data](https://lifetimes.readthedocs.io/en/latest/lifetimes.html#lifetimes.utils.summary_data_from_transaction_data) which calculates a couple of [metrics](https://lifetimes.readthedocs.io/en/latest/Quickstart.html#the-shape-of-your-data) for each user:\n",
        "\n",
        "1. **frequency**<br>\n",
        "   The number of *repeat* purchases the customer has made.<br>\n",
        "   This means that it’s one less than the total number of purchases.<br>\n",
        "   So a frequency of 1 actually represents 2 orders and one-time buyers have a frequency of 0\n",
        "2. **recency**<br>\n",
        "   The age of the customer when they made their most recent purchases.<br>\n",
        "   This is equal to the duration between a customer’s first purchase and their latest purchase.<br>\n",
        "   Thus if they have made only 1 purchase, the recency is 0.\n",
        "3. **T**<br>\n",
        "   The duration between the customer's first purchase and the end of the timeframe.\n",
        "4. **monetary_value**<br>\n",
        "   The average value of the customer's purchases.<br>\n",
        "   This is equal to the sum of all of the customer's purchases divided by the total number of their purchases.<br>\n",
        "   Note that per default this disregards the first transaction of each order (as is needed for subsequent calculations)<br>\n",
        "   So `monetary_value = sum(all purchases except first) / (number of purchases - 1)`"
      ]
    },
    {
      "cell_type": "code",
      "metadata": {
        "colab": {
          "base_uri": "https://localhost:8080/"
        },
        "id": "hlrkFNZQmY6U",
        "outputId": "87809de7-ab77-4b37-90de-49dfe6a2267e"
      },
      "source": [
        "# Fitting the BG/NBD model\n",
        "bgf = lifetimes.BetaGeoFitter(penalizer_coef=0.0)\n",
        "bgf.fit(summary['frequency'], summary['recency'], summary['T'])"
      ],
      "execution_count": 42,
      "outputs": [
        {
          "output_type": "execute_result",
          "data": {
            "text/plain": [
              "<lifetimes.BetaGeoFitter: fitted with 4338 subjects, a: 0.00, alpha: 68.91, b: 6.75, r: 0.83>"
            ]
          },
          "metadata": {
            "tags": []
          },
          "execution_count": 42
        }
      ]
    },
    {
      "cell_type": "markdown",
      "metadata": {
        "id": "-_v_WWW6mY6V"
      },
      "source": [
        "### 6.1. Estimate Customer's probability to be 'alive'"
      ]
    },
    {
      "cell_type": "markdown",
      "metadata": {
        "id": "8uYK8ggfmY6V"
      },
      "source": [
        "This is done using a combination of the Frequency and Recency metrics.\n",
        "\n",
        "So a customer has a high probability of being 'alive' if they purchase frequently and recently."
      ]
    },
    {
      "cell_type": "code",
      "metadata": {
        "id": "se1LLxiqmY6V"
      },
      "source": [
        "# Compute the customer alive probability\n",
        "summary['p_alive'] = bgf.conditional_probability_alive(summary['frequency'], summary['recency'], summary['T'])"
      ],
      "execution_count": 43,
      "outputs": []
    },
    {
      "cell_type": "code",
      "metadata": {
        "colab": {
          "base_uri": "https://localhost:8080/",
          "height": 545
        },
        "id": "_Qx8JZFxmY6V",
        "outputId": "10e150e8-9fcc-4d28-8740-4053d5b48c18"
      },
      "source": [
        "plt.figure(figsize=(12,8))\n",
        "plot_probability_alive_matrix(bgf)"
      ],
      "execution_count": 44,
      "outputs": [
        {
          "output_type": "execute_result",
          "data": {
            "text/plain": [
              "<matplotlib.axes._subplots.AxesSubplot at 0x7f49f72c60d0>"
            ]
          },
          "metadata": {
            "tags": []
          },
          "execution_count": 44
        },
        {
          "output_type": "display_data",
          "data": {
            "image/png": "[encoded data removed]",
            "text/plain": [
              "<Figure size 864x576 with 2 Axes>"
            ]
          },
          "metadata": {
            "tags": [],
            "needs_background": "light"
          }
        }
      ]
    },
    {
      "cell_type": "markdown",
      "metadata": {
        "id": "O8HKc9ommY6W"
      },
      "source": [
        "The graph shows that the probability for a customer to be 'alive' is greatest under the following conditions:\n",
        "- Few purchases (low frequency) in a very short amount of time (low recency) -> Upper left corner\n",
        "- Few purchases (low frequency) but also very recently (high recency) -> Bottom left corner\n",
        "- Many purchases (high frequency) and also recently (high recency) -> Bottom right corner\n",
        "\n",
        "The probability of being 'alive' is very low, if:\n",
        "- A lot of purchases (high frequency) but some time ago (low recency) -> Upper right corner"
      ]
    },
    {
      "cell_type": "markdown",
      "metadata": {
        "id": "mzQMf47imY6W"
      },
      "source": [
        "### 6.2. Predict future number of transactions"
      ]
    },
    {
      "cell_type": "code",
      "metadata": {
        "id": "VK4zYgMumY6W"
      },
      "source": [
        "# Set timeframe (30 days)\n",
        "t = 30\n",
        "\n",
        "summary['pred_num_txn'] = round(bgf.conditional_expected_number_of_purchases_up_to_time(t, summary['frequency'], summary['recency'], summary['T']), 2)"
      ],
      "execution_count": 45,
      "outputs": []
    },
    {
      "cell_type": "code",
      "metadata": {
        "colab": {
          "base_uri": "https://localhost:8080/",
          "height": 545
        },
        "id": "FTo5gWYQmY6W",
        "outputId": "4f8540e5-080f-47eb-f65a-f5f7a13d3fd8"
      },
      "source": [
        "plt.figure(figsize=(12,8))\n",
        "plot_frequency_recency_matrix(bgf)"
      ],
      "execution_count": 46,
      "outputs": [
        {
          "output_type": "execute_result",
          "data": {
            "text/plain": [
              "<matplotlib.axes._subplots.AxesSubplot at 0x7f49f75a2a90>"
            ]
          },
          "metadata": {
            "tags": []
          },
          "execution_count": 46
        },
        {
          "output_type": "display_data",
          "data": {
            "image/png": "[encoded data removed]",
            "text/plain": [
              "<Figure size 864x576 with 2 Axes>"
            ]
          },
          "metadata": {
            "tags": [],
            "needs_background": "light"
          }
        }
      ]
    },
    {
      "cell_type": "markdown",
      "metadata": {
        "id": "FC3SWtStmY6X"
      },
      "source": [
        "The graph shows that the number of expected future purchases increases for customers with high frequency and high recency."
      ]
    },
    {
      "cell_type": "markdown",
      "metadata": {
        "id": "z_NMjpefmY6X"
      },
      "source": [
        "### 6.3. Predict CLV"
      ]
    },
    {
      "cell_type": "markdown",
      "metadata": {
        "id": "XnNfz4FmmY6X"
      },
      "source": [
        "Given predicted future transactions and the probability of being alive we can now use the Gamma-Gamma Model to predict the Customer Lifetime Value.\n",
        "\n",
        "To do that we only include customers who made repeat purchases (frequency > 0) as one-time buyers are considered already dead."
      ]
    },
    {
      "cell_type": "code",
      "metadata": {
        "id": "TIksBlxnmY6X"
      },
      "source": [
        "return_customers_summary = summary[summary['frequency'] > 0]"
      ],
      "execution_count": 47,
      "outputs": []
    },
    {
      "cell_type": "markdown",
      "metadata": {
        "id": "FXqb6aavmY6X"
      },
      "source": [
        "To get an idea of how many of our customers are actually one-time buyers let's take a look at the frequency distribution"
      ]
    },
    {
      "cell_type": "code",
      "metadata": {
        "colab": {
          "base_uri": "https://localhost:8080/",
          "height": 282
        },
        "id": "VN4kB3_7mY6X",
        "outputId": "6b04a853-c0fe-4283-a7d5-1f1f5491c5cc"
      },
      "source": [
        "summary['frequency'].plot(kind='hist', bins=50)\n",
        "one_time_buyers = round(sum(summary['frequency'] == 0) / float(len(summary)) * (100), 2)\n",
        "print('Percentage of one-time buyers: {}%'.format(one_time_buyers))"
      ],
      "execution_count": 48,
      "outputs": [
        {
          "output_type": "stream",
          "text": [
            "Percentage of one-time buyers: 35.68%\n"
          ],
          "name": "stdout"
        },
        {
          "output_type": "display_data",
          "data": {
            "image/png": "[encoded data removed]",
            "text/plain": [
              "<Figure size 432x288 with 1 Axes>"
            ]
          },
          "metadata": {
            "tags": [],
            "needs_background": "light"
          }
        }
      ]
    },
    {
      "cell_type": "code",
      "metadata": {
        "colab": {
          "base_uri": "https://localhost:8080/"
        },
        "id": "cdz3fgu0mY6Y",
        "outputId": "84bee129-a865-4b7e-dddd-a9fea9afad42"
      },
      "source": [
        "# Modeling the monetary value using Gamma-Gamma Model\n",
        "ggf = lifetimes.GammaGammaFitter(penalizer_coef=0.001)\n",
        "ggf.fit(return_customers_summary['frequency'],\n",
        "       return_customers_summary['monetary_value'])"
      ],
      "execution_count": 49,
      "outputs": [
        {
          "output_type": "execute_result",
          "data": {
            "text/plain": [
              "<lifetimes.GammaGammaFitter: fitted with 2790 subjects, p: 11.13, q: 0.84, v: 11.29>"
            ]
          },
          "metadata": {
            "tags": []
          },
          "execution_count": 49
        }
      ]
    },
    {
      "cell_type": "code",
      "metadata": {
        "id": "Yhc-JpjwmY6Y"
      },
      "source": [
        "# Calculating the conditional expected average profit for each customer per transaction\n",
        "summary = summary[summary['monetary_value'] > 0]\n",
        "summary['exp_avg_sales'] = ggf.conditional_expected_average_profit(summary['frequency'],\n",
        "                                       summary['monetary_value'])"
      ],
      "execution_count": 50,
      "outputs": []
    },
    {
      "cell_type": "code",
      "metadata": {
        "id": "HnucVpq8mY6Y"
      },
      "source": [
        "# Predicting Customer Lifetime Value for the next 30 days\n",
        "summary['predicted_clv'] = ggf.customer_lifetime_value(bgf,\n",
        "                                                       summary['frequency'],\n",
        "                                                       summary['recency'],\n",
        "                                                       summary['T'],\n",
        "                                                       summary['monetary_value'],\n",
        "                                                       time=1, # lifetime in months\n",
        "                                                       freq='D', # frequency in which the data is present (T)      \n",
        "                                                       discount_rate=0.01) # discount rate"
      ],
      "execution_count": 51,
      "outputs": []
    },
    {
      "cell_type": "code",
      "metadata": {
        "colab": {
          "base_uri": "https://localhost:8080/",
          "height": 204
        },
        "id": "_vykG4WVmY6Y",
        "outputId": "5b5440c7-bace-4045-a7ae-be7523a44f84"
      },
      "source": [
        "summary.head()"
      ],
      "execution_count": 52,
      "outputs": [
        {
          "output_type": "execute_result",
          "data": {
            "text/html": [
              "<div>\n",
              "<style scoped>\n",
              "    .dataframe tbody tr th:only-of-type {\n",
              "        vertical-align: middle;\n",
              "    }\n",
              "\n",
              "    .dataframe tbody tr th {\n",
              "        vertical-align: top;\n",
              "    }\n",
              "\n",
              "    .dataframe thead th {\n",
              "        text-align: right;\n",
              "    }\n",
              "</style>\n",
              "<table border=\"1\" class=\"dataframe\">\n",
              "  <thead>\n",
              "    <tr style=\"text-align: right;\">\n",
              "      <th></th>\n",
              "      <th>CustomerID</th>\n",
              "      <th>frequency</th>\n",
              "      <th>recency</th>\n",
              "      <th>T</th>\n",
              "      <th>monetary_value</th>\n",
              "      <th>p_alive</th>\n",
              "      <th>pred_num_txn</th>\n",
              "      <th>exp_avg_sales</th>\n",
              "      <th>predicted_clv</th>\n",
              "    </tr>\n",
              "  </thead>\n",
              "  <tbody>\n",
              "    <tr>\n",
              "      <th>1</th>\n",
              "      <td>12347.0</td>\n",
              "      <td>6.0</td>\n",
              "      <td>365.0</td>\n",
              "      <td>367.0</td>\n",
              "      <td>599.701667</td>\n",
              "      <td>0.999698</td>\n",
              "      <td>0.47</td>\n",
              "      <td>603.040247</td>\n",
              "      <td>280.409518</td>\n",
              "    </tr>\n",
              "    <tr>\n",
              "      <th>2</th>\n",
              "      <td>12348.0</td>\n",
              "      <td>3.0</td>\n",
              "      <td>283.0</td>\n",
              "      <td>358.0</td>\n",
              "      <td>301.480000</td>\n",
              "      <td>0.999177</td>\n",
              "      <td>0.27</td>\n",
              "      <td>306.725889</td>\n",
              "      <td>81.591026</td>\n",
              "    </tr>\n",
              "    <tr>\n",
              "      <th>5</th>\n",
              "      <td>12352.0</td>\n",
              "      <td>6.0</td>\n",
              "      <td>260.0</td>\n",
              "      <td>296.0</td>\n",
              "      <td>368.256667</td>\n",
              "      <td>0.999406</td>\n",
              "      <td>0.56</td>\n",
              "      <td>371.034926</td>\n",
              "      <td>206.034640</td>\n",
              "    </tr>\n",
              "    <tr>\n",
              "      <th>9</th>\n",
              "      <td>12356.0</td>\n",
              "      <td>2.0</td>\n",
              "      <td>303.0</td>\n",
              "      <td>325.0</td>\n",
              "      <td>269.905000</td>\n",
              "      <td>0.999478</td>\n",
              "      <td>0.22</td>\n",
              "      <td>277.562534</td>\n",
              "      <td>59.125290</td>\n",
              "    </tr>\n",
              "    <tr>\n",
              "      <th>11</th>\n",
              "      <td>12358.0</td>\n",
              "      <td>1.0</td>\n",
              "      <td>149.0</td>\n",
              "      <td>150.0</td>\n",
              "      <td>683.200000</td>\n",
              "      <td>0.999486</td>\n",
              "      <td>0.25</td>\n",
              "      <td>704.704679</td>\n",
              "      <td>174.550478</td>\n",
              "    </tr>\n",
              "  </tbody>\n",
              "</table>\n",
              "</div>"
            ],
            "text/plain": [
              "    CustomerID  frequency  recency  ...  pred_num_txn  exp_avg_sales  predicted_clv\n",
              "1      12347.0        6.0    365.0  ...          0.47     603.040247     280.409518\n",
              "2      12348.0        3.0    283.0  ...          0.27     306.725889      81.591026\n",
              "5      12352.0        6.0    260.0  ...          0.56     371.034926     206.034640\n",
              "9      12356.0        2.0    303.0  ...          0.22     277.562534      59.125290\n",
              "11     12358.0        1.0    149.0  ...          0.25     704.704679     174.550478\n",
              "\n",
              "[5 rows x 9 columns]"
            ]
          },
          "metadata": {
            "tags": []
          },
          "execution_count": 52
        }
      ]
    },
    {
      "cell_type": "markdown",
      "metadata": {
        "id": "0x1Fpc11mY6Z"
      },
      "source": [
        "#### 6.3.1. Manually calculate pCLV"
      ]
    },
    {
      "cell_type": "markdown",
      "metadata": {
        "id": "yw79dMODmY6Z"
      },
      "source": [
        "You may also manually calculate the CLV by multiplying the predicted number of transactions with the expected average sales.  \n",
        "It might not be as accurate but can be used for validation."
      ]
    },
    {
      "cell_type": "code",
      "metadata": {
        "colab": {
          "base_uri": "https://localhost:8080/",
          "height": 204
        },
        "id": "HRgMnVJjmY6Z",
        "outputId": "3fadc6fc-fdd7-4446-e1ba-687f7ca25a16"
      },
      "source": [
        "# Manually calculate CLV\n",
        "summary['manual_predicted_clv'] = summary['pred_num_txn'] * summary['exp_avg_sales']\n",
        "summary.head()"
      ],
      "execution_count": 53,
      "outputs": [
        {
          "output_type": "execute_result",
          "data": {
            "text/html": [
              "<div>\n",
              "<style scoped>\n",
              "    .dataframe tbody tr th:only-of-type {\n",
              "        vertical-align: middle;\n",
              "    }\n",
              "\n",
              "    .dataframe tbody tr th {\n",
              "        vertical-align: top;\n",
              "    }\n",
              "\n",
              "    .dataframe thead th {\n",
              "        text-align: right;\n",
              "    }\n",
              "</style>\n",
              "<table border=\"1\" class=\"dataframe\">\n",
              "  <thead>\n",
              "    <tr style=\"text-align: right;\">\n",
              "      <th></th>\n",
              "      <th>CustomerID</th>\n",
              "      <th>frequency</th>\n",
              "      <th>recency</th>\n",
              "      <th>T</th>\n",
              "      <th>monetary_value</th>\n",
              "      <th>p_alive</th>\n",
              "      <th>pred_num_txn</th>\n",
              "      <th>exp_avg_sales</th>\n",
              "      <th>predicted_clv</th>\n",
              "      <th>manual_predicted_clv</th>\n",
              "    </tr>\n",
              "  </thead>\n",
              "  <tbody>\n",
              "    <tr>\n",
              "      <th>1</th>\n",
              "      <td>12347.0</td>\n",
              "      <td>6.0</td>\n",
              "      <td>365.0</td>\n",
              "      <td>367.0</td>\n",
              "      <td>599.701667</td>\n",
              "      <td>0.999698</td>\n",
              "      <td>0.47</td>\n",
              "      <td>603.040247</td>\n",
              "      <td>280.409518</td>\n",
              "      <td>283.428916</td>\n",
              "    </tr>\n",
              "    <tr>\n",
              "      <th>2</th>\n",
              "      <td>12348.0</td>\n",
              "      <td>3.0</td>\n",
              "      <td>283.0</td>\n",
              "      <td>358.0</td>\n",
              "      <td>301.480000</td>\n",
              "      <td>0.999177</td>\n",
              "      <td>0.27</td>\n",
              "      <td>306.725889</td>\n",
              "      <td>81.591026</td>\n",
              "      <td>82.815990</td>\n",
              "    </tr>\n",
              "    <tr>\n",
              "      <th>5</th>\n",
              "      <td>12352.0</td>\n",
              "      <td>6.0</td>\n",
              "      <td>260.0</td>\n",
              "      <td>296.0</td>\n",
              "      <td>368.256667</td>\n",
              "      <td>0.999406</td>\n",
              "      <td>0.56</td>\n",
              "      <td>371.034926</td>\n",
              "      <td>206.034640</td>\n",
              "      <td>207.779558</td>\n",
              "    </tr>\n",
              "    <tr>\n",
              "      <th>9</th>\n",
              "      <td>12356.0</td>\n",
              "      <td>2.0</td>\n",
              "      <td>303.0</td>\n",
              "      <td>325.0</td>\n",
              "      <td>269.905000</td>\n",
              "      <td>0.999478</td>\n",
              "      <td>0.22</td>\n",
              "      <td>277.562534</td>\n",
              "      <td>59.125290</td>\n",
              "      <td>61.063757</td>\n",
              "    </tr>\n",
              "    <tr>\n",
              "      <th>11</th>\n",
              "      <td>12358.0</td>\n",
              "      <td>1.0</td>\n",
              "      <td>149.0</td>\n",
              "      <td>150.0</td>\n",
              "      <td>683.200000</td>\n",
              "      <td>0.999486</td>\n",
              "      <td>0.25</td>\n",
              "      <td>704.704679</td>\n",
              "      <td>174.550478</td>\n",
              "      <td>176.176170</td>\n",
              "    </tr>\n",
              "  </tbody>\n",
              "</table>\n",
              "</div>"
            ],
            "text/plain": [
              "    CustomerID  frequency  ...  predicted_clv  manual_predicted_clv\n",
              "1      12347.0        6.0  ...     280.409518            283.428916\n",
              "2      12348.0        3.0  ...      81.591026             82.815990\n",
              "5      12352.0        6.0  ...     206.034640            207.779558\n",
              "9      12356.0        2.0  ...      59.125290             61.063757\n",
              "11     12358.0        1.0  ...     174.550478            176.176170\n",
              "\n",
              "[5 rows x 10 columns]"
            ]
          },
          "metadata": {
            "tags": []
          },
          "execution_count": 53
        }
      ]
    }
  ]
}